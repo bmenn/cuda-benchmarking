{
 "cells": [
  {
   "cell_type": "code",
   "execution_count": 1,
   "metadata": {
    "collapsed": false
   },
   "outputs": [],
   "source": [
    "%matplotlib inline\n",
    "import skcuda.linalg    # Version tested @ https://github.com/bmenn/scikit-cuda/tree/cusolver-eigen\n",
    "                        # commit 2d4bbfe68b9f644c98286e567fe2d0c7b4eef1fd\n",
    "import scipy.linalg\n",
    "import numpy.linalg\n",
    "import numpy as np\n",
    "import pycuda.autoinit\n",
    "import pycuda.gpuarray as gpuarray\n",
    "import time\n",
    "\n",
    "import pandas as pd\n",
    "import matplotlib\n",
    "import matplotlib.pyplot as plt\n",
    "matplotlib.style.use('ggplot')\n",
    "skcuda.linalg.init()"
   ]
  },
  {
   "cell_type": "markdown",
   "metadata": {},
   "source": [
    "## System Info\n",
    "tl;dr\n",
    "i7-4790k, 4x8GB DDR3 1600MHz, NVIDIA GTX 980Ti\n",
    "\n",
    "```\n",
    "$ sudo lshw -C cpu -C display -C memory\n",
    "  *-firmware\n",
    "       description: BIOS\n",
    "       vendor: American Megatrends Inc.\n",
    "       physical id: 0\n",
    "       version: V4.9\n",
    "       date: 05/28/2015\n",
    "       size: 64KiB\n",
    "       capacity: 8128KiB\n",
    "       capabilities: pci upgrade shadowing cdboot bootselect socketedrom edd int13floppy1200 int13floppy720 int13floppy2880 int5printscreen int9keyboard int14serial int17printer acpi usb biosbootspecification uefi\n",
    "  *-cpu\n",
    "       description: CPU\n",
    "       product: Intel(R) Core(TM) i7-4790K CPU @ 4.00GHz\n",
    "       vendor: Intel Corp.\n",
    "       physical id: 3d\n",
    "       bus info: cpu@0\n",
    "       version: Intel(R) Core(TM) i7-4790K CPU @ 4.00GHz\n",
    "       slot: SOCKET 0\n",
    "       size: 4350MHz\n",
    "       capacity: 4400MHz\n",
    "       width: 64 bits\n",
    "       clock: 100MHz\n",
    "       capabilities: x86-64 fpu fpu_exception wp vme de pse tsc msr pae mce cx8 apic sep mtrr pge mca cmov pat pse36 clflush dts acpimmx fxsr sse sse2 ss ht tm pbe syscall nx pdpe1gb rdtscp constant_tsc arch_perfmon pebs bts rep_good nopl xtopology nonstop_tsc aperfmperf eagerfpu pni pclmulqdq dtes64 monitor ds_cpl vmx est tm2 ssse3 sdbg fma cx16 xtpr pdcm pcid sse4_1 sse4_2 x2apic movbe popcnt tsc_deadline_timer aes xsave avx f16c rdrand lahf_lm abm tpr_shadow vnmi flexpriority ept vpid fsgsbase tsc_adjust bmi1 avx2 smep bmi2 erms invpcid xsaveopt dtherm ida arat pln pts cpufreq\n",
    "       configuration: cores=4 enabledcores=4 threads=8\n",
    "     *-cache:0\n",
    "          description: L1 cache\n",
    "          physical id: 3e\n",
    "          slot: CPU Internal L1\n",
    "          size: 256KiB\n",
    "          capacity: 256KiB\n",
    "          capabilities: synchronous internal write-back\n",
    "          configuration: level=1\n",
    "     *-cache:1\n",
    "          description: L2 cache\n",
    "          physical id: 3f\n",
    "          slot: CPU Internal L2\n",
    "          size: 1MiB\n",
    "          capacity: 1MiB\n",
    "          capabilities: synchronous internal write-back unified\n",
    "          configuration: level=2\n",
    "     *-cache:2\n",
    "          description: L3 cache\n",
    "          physical id: 40\n",
    "          slot: CPU Internal L3\n",
    "          size: 8MiB\n",
    "          capacity: 8MiB\n",
    "          capabilities: synchronous internal write-back unified\n",
    "          configuration: level=3\n",
    "  *-memory\n",
    "       description: System Memory\n",
    "       physical id: 42\n",
    "       slot: System board or motherboard\n",
    "       size: 32GiB\n",
    "     *-bank:0\n",
    "          description: DIMM DDR3 Synchronous 1600 MHz (0.6 ns)\n",
    "          product: BLS8G3D1609DS1S00.\n",
    "          vendor: Conexant (Rockwell)\n",
    "          physical id: 0\n",
    "          serial: 32A06BFF\n",
    "          slot: ChannelA-DIMM0\n",
    "          size: 8GiB\n",
    "          width: 64 bits\n",
    "          clock: 1600MHz (0.6ns)\n",
    "     *-bank:1\n",
    "          description: DIMM DDR3 Synchronous 1600 MHz (0.6 ns)\n",
    "          product: CMZ16GX3M2A1600C10\n",
    "          vendor: AMI\n",
    "          physical id: 1\n",
    "          serial: 00000000\n",
    "          slot: ChannelA-DIMM1\n",
    "          size: 8GiB\n",
    "          width: 64 bits\n",
    "          clock: 1600MHz (0.6ns)\n",
    "     *-bank:2\n",
    "          description: DIMM DDR3 Synchronous 1600 MHz (0.6 ns)\n",
    "          product: BLS8G3D1609DS1S00.\n",
    "          vendor: Conexant (Rockwell)\n",
    "          physical id: 2\n",
    "          serial: 32A06BF1\n",
    "          slot: ChannelB-DIMM0\n",
    "          size: 8GiB\n",
    "          width: 64 bits\n",
    "          clock: 1600MHz (0.6ns)\n",
    "     *-bank:3\n",
    "          description: DIMM DDR3 Synchronous 1600 MHz (0.6 ns)\n",
    "          product: CMZ16GX3M2A1600C10\n",
    "          vendor: AMI\n",
    "          physical id: 3\n",
    "          serial: 00000000\n",
    "          slot: ChannelB-DIMM1\n",
    "          size: 8GiB\n",
    "          width: 64 bits\n",
    "          clock: 1600MHz (0.6ns)\n",
    "  *-display\n",
    "       description: VGA compatible controller\n",
    "       product: GM200 [GeForce GTX 980 Ti]\n",
    "       vendor: NVIDIA Corporation\n",
    "       physical id: 0\n",
    "       bus info: pci@0000:01:00.0\n",
    "       version: a1\n",
    "       width: 64 bits\n",
    "       clock: 33MHz\n",
    "       capabilities: pm msi pciexpress vga_controller bus_master cap_list rom\n",
    "       configuration: driver=nvidia latency=0\n",
    "       resources: irq:31 memory:f6000000-f6ffffff memory:e0000000-efffffff memory:f0000000-f1ffffff ioport:e000(size=128) memory:c0000-dffff\n",
    "```"
   ]
  },
  {
   "cell_type": "code",
   "execution_count": 2,
   "metadata": {
    "collapsed": true
   },
   "outputs": [],
   "source": [
    "def symmetrize(a):\n",
    "    return a + a.T - np.diag(a.diagonal())"
   ]
  },
  {
   "cell_type": "code",
   "execution_count": 3,
   "metadata": {
    "collapsed": false
   },
   "outputs": [
    {
     "name": "stdout",
     "output_type": "stream",
     "text": [
      "Testing  n=2 n=4 n=8 n=16 n=32 n=64 n=128 n=256 n=512 n=1024 n=2048 n=4096 n=8192\n"
     ]
    }
   ],
   "source": [
    "funcs = {\n",
    "    'numpy': numpy.linalg.eigvalsh,\n",
    "    'scipy': scipy.linalg.eigvalsh,\n",
    "    'scikit-cuda': skcuda.linalg.eig,\n",
    "}\n",
    "data = []\n",
    "print 'Testing ',\n",
    "for p in range(1, 14):\n",
    "    # Do 5 samples at each size\n",
    "    n = 2**p\n",
    "    print 'n=%d' % n,\n",
    "    for i in range(5):\n",
    "        A = np.random.rand(n, n)\n",
    "        A = symmetrize(A)\n",
    "        for name, f in funcs.iteritems():\n",
    "            if name == 'scikit-cuda':\n",
    "                A_gpu = gpuarray.to_gpu(A)\n",
    "                start = time.time()\n",
    "                f(A_gpu, jobvl='N', jobvr='N', lib='cusolver')\n",
    "                stop = time.time()\n",
    "            else:\n",
    "                start = time.time()\n",
    "                f(A)\n",
    "                stop = time.time()\n",
    "            data.append({\n",
    "                'library': name,\n",
    "                'n': n,\n",
    "                'iter': i,\n",
    "                'duration': stop - start\n",
    "            })"
   ]
  },
  {
   "cell_type": "code",
   "execution_count": 4,
   "metadata": {
    "collapsed": false
   },
   "outputs": [
    {
     "data": {
      "text/plain": [
       "<matplotlib.axes._subplots.AxesSubplot at 0x7eff702e5b10>"
      ]
     },
     "execution_count": 4,
     "metadata": {},
     "output_type": "execute_result"
    },
    {
     "data": {
      "image/png": "[encoded data removed]",
      "text/plain": [
       "<matplotlib.figure.Figure at 0x7eff702d4f10>"
      ]
     },
     "metadata": {},
     "output_type": "display_data"
    }
   ],
   "source": [
    "df = pd.DataFrame(data)\n",
    "means = df.groupby(['n', 'library'])['duration'].mean().unstack(1)\n",
    "errors = df.groupby(['n', 'library'])['duration'].std().unstack(1)\n",
    "\n",
    "means.plot.line(yerr=errors)"
   ]
  },
  {
   "cell_type": "code",
   "execution_count": null,
   "metadata": {
    "collapsed": true
   },
   "outputs": [],
   "source": []
  }
 ],
 "metadata": {
  "kernelspec": {
   "display_name": "Python 2",
   "language": "python2",
   "name": "python2"
  },
  "language_info": {
   "codemirror_mode": {
    "name": "ipython",
    "version": 2
   },
   "file_extension": ".py",
   "mimetype": "text/x-python",
   "name": "python",
   "nbconvert_exporter": "python",
   "pygments_lexer": "ipython2",
   "version": "2.7.13"
  }
 },
 "nbformat": 4,
 "nbformat_minor": 2
}
